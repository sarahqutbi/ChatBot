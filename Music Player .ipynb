{
 "cells": [
  {
   "cell_type": "code",
   "execution_count": null,
   "metadata": {},
   "outputs": [],
   "source": [
    "import tkinter as tk\n",
    "import os\n",
    "import pygame\n",
    "import mutagen.mp3\n",
    "\n",
    "root = tk.Tk()\n",
    "root.title('MusicPlayer')\n",
    "root.geometry('400x400')\n",
    "root.configure(bg = 'black')\n",
    "\n",
    "os.chdir('C:\\\\Users\\\\sarah\\\\Desktop\\\\music')\n",
    "songlist = os.listdir()\n",
    "\n",
    "\n",
    "playlist = tk.Listbox(root, highlightcolor='blue', selectmode=tk.SINGLE, width=100, bg='light grey', fg='black')\n",
    "for item in songlist:\n",
    "    pos = 0\n",
    "    playlist.insert(pos, item)\n",
    "    pos = pos+1\n",
    "\n",
    "\n",
    "def Play():\n",
    "    mp3 = mutagen.mp3.MP3(playlist.get(tk.ACTIVE))\n",
    "    pygame.mixer.init(frequency=mp3.info.sample_rate)\n",
    "    pygame.mixer.music.unpause()\n",
    "    pygame.mixer.music.load(playlist.get(tk.ACTIVE))\n",
    "    pygame.mixer.music.play()\n",
    "    name.set(playlist.get(tk.ACTIVE))\n",
    "    \n",
    "def Pause():\n",
    "    pygame.mixer.music.pause()\n",
    "    \n",
    "def Unpause():\n",
    "    pygame.mixer.music.unpause()\n",
    "    \n",
    "def ExitPlayer():\n",
    "    pygame.mixer.music.stop()\n",
    "\n",
    "def Volume(event):\n",
    "    pygame.mixer.music.set_volume(volumeControl.get())\n",
    "\n",
    "name = tk.StringVar()\n",
    "songname = tk.Label(root, textvariable=name, bg='black', fg='white', height=4, font='bold').pack(fill='x', expand='yes')\n",
    "    \n",
    "volumeControl = tk.Scale(root, from_=0.00, to_=1.00, resolution=0.01, orient=tk.HORIZONTAL, bg='white', fg='grey')\n",
    "volumeControl.bind('<Button-1>', Volume)\n",
    "    \n",
    "bPlay = tk.Button(root, text='Play', bg='grey', fg='white', command=Play, width=10).pack()\n",
    "bPause = tk.Button(root, text='Pause', bg='grey', fg='white', command=Pause, width=10).pack()\n",
    "bUnpause = tk.Button(root, text='UnPause', bg='grey', fg='white', command=Unpause, width=10).pack()\n",
    "bStop = tk.Button(root, text='Stop', bg='grey', fg='white', command=ExitPlayer, width=10).pack()\n",
    "\n",
    "volumeControl.pack(fill='x')\n",
    "\n",
    "playlist.pack(fill='both', expand='yes')\n",
    "\n",
    "root.mainloop()"
   ]
  },
  {
   "cell_type": "code",
   "execution_count": null,
   "metadata": {},
   "outputs": [],
   "source": []
  }
 ],
 "metadata": {
  "kernelspec": {
   "display_name": "Python 3",
   "language": "python",
   "name": "python3"
  },
  "language_info": {
   "codemirror_mode": {
    "name": "ipython",
    "version": 3
   },
   "file_extension": ".py",
   "mimetype": "text/x-python",
   "name": "python",
   "nbconvert_exporter": "python",
   "pygments_lexer": "ipython3",
   "version": "3.7.4"
  }
 },
 "nbformat": 4,
 "nbformat_minor": 2
}
