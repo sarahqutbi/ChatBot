{
 "cells": [
  {
   "cell_type": "code",
   "execution_count": null,
   "metadata": {},
   "outputs": [
    {
     "name": "stdout",
     "output_type": "stream",
     "text": [
      "pygame 1.9.6\n",
      "Hello from the pygame community. https://www.pygame.org/contribute.html\n",
      "\n",
      "***Say something***\n",
      "\n",
      "USER: where do you live\n",
      "BOT: In your head.\n",
      "\n",
      "***Say something***\n",
      "\n",
      "USER: are we friends\n",
      "BOT: You can call me your friend.\n",
      "\n",
      "***Say something***\n",
      "\n"
     ]
    }
   ],
   "source": [
    "from gtts import gTTS\n",
    "import pygame\n",
    "import apiai, json\n",
    "import random\n",
    "import speech_recognition as sr\n",
    "\n",
    "rec = sr.Recognizer()\n",
    "\n",
    "class FirstBot:\n",
    "    \n",
    "    def ApiConfig(self):\n",
    "        self.CLIENT_ACCESS_TOKEN = \"463c83b080f74d248c53fe3f4d81008c\"\n",
    "        self.ai = apiai.ApiAI(self.CLIENT_ACCESS_TOKEN)\n",
    "        self.request = self.ai.text_request()\n",
    "        self.request.lang = \"de\"\n",
    "        self.request.session_id = \"SESSION ID, UNIQUE FOR EACH USER\"\n",
    "        \n",
    "    def Chat(self, msg):\n",
    "        self.ApiConfig()\n",
    "        self.request.query = msg\n",
    "        response = self.request.getresponse()\n",
    "        obj = json.load(response)\n",
    "        reply = obj[\"result\"][\"fulfillment\"][\"speech\"]\n",
    "        return reply\n",
    "\n",
    "    \n",
    "    \n",
    "chat = FirstBot()\n",
    "\n",
    "while True:\n",
    "    with sr.Microphone() as source:\n",
    "        rec.adjust_for_ambient_noise(source)\n",
    "        print(\"\\n***Say something***\\n\")\n",
    "        au = rec.listen(source)\n",
    "        \n",
    "        try:\n",
    "            a = rec.recognize_google(au)\n",
    "            print(\"USER:\", a)\n",
    "        except Exception as e:\n",
    "            print(e)\n",
    "            \n",
    "        if a!=0:\n",
    "            ans = chat.Chat(a)\n",
    "            print(\"BOT:\", ans)\n",
    "            voice = gTTS(ans, \"en\", slow=False)\n",
    "            pygame.mixer.init()\n",
    "            n = random.randint(1,999)\n",
    "            voice.save(\"C:\\\\Users\\\\sarah\\\\Desktop\\\\chat\\\\chatbot\"+str(n)+\".mp3\")\n",
    "            pygame.mixer.music.load(\"C:\\\\Users\\\\sarah\\\\Desktop\\\\chat\\\\chatbot\"+str(n)+\".mp3\")\n",
    "            pygame.mixer.music.play()\n",
    "\n",
    "        if a== \"bye\":\n",
    "            break"
   ]
  },
  {
   "cell_type": "code",
   "execution_count": null,
   "metadata": {},
   "outputs": [],
   "source": []
  }
 ],
 "metadata": {
  "kernelspec": {
   "display_name": "Python 3",
   "language": "python",
   "name": "python3"
  },
  "language_info": {
   "codemirror_mode": {
    "name": "ipython",
    "version": 3
   },
   "file_extension": ".py",
   "mimetype": "text/x-python",
   "name": "python",
   "nbconvert_exporter": "python",
   "pygments_lexer": "ipython3",
   "version": "3.7.4"
  }
 },
 "nbformat": 4,
 "nbformat_minor": 2
}
